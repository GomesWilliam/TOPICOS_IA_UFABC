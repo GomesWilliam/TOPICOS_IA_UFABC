{
 "cells": [
  {
   "cell_type": "code",
   "execution_count": 1,
   "metadata": {},
   "outputs": [],
   "source": [
    "from sklearn.model_selection import GridSearchCV\n",
    "from sklearn.svm import SVC\n",
    "from sklearn.metrics import make_scorer, accuracy_score, precision_score, recall_score\n",
    "import pandas as pd"
   ]
  },
  {
   "cell_type": "code",
   "execution_count": 2,
   "metadata": {},
   "outputs": [],
   "source": [
    "dataset = pd.read_csv('processedData.csv')\n",
    "target = dataset['target']\n",
    "data = dataset.drop(columns='target')"
   ]
  },
  {
   "cell_type": "code",
   "execution_count": 3,
   "metadata": {},
   "outputs": [],
   "source": [
    "gridParameters = [{\n",
    "    'C': [1e-5, 1e-4, 1e-3, 1e-2, 1e-1, 1, 2, 3],\n",
    "    'kernel': ['linear', 'poly', 'rbf'],\n",
    "    'degree': [1,2,3,4,5,6],\n",
    "    'decision_function_shape': ['ovo', 'ovr']\n",
    "}]"
   ]
  },
  {
   "cell_type": "code",
   "execution_count": 4,
   "metadata": {},
   "outputs": [
    {
     "name": "stdout",
     "output_type": "stream",
     "text": [
      "Fitting 5 folds for each of 288 candidates, totalling 1440 fits\n"
     ]
    },
    {
     "name": "stderr",
     "output_type": "stream",
     "text": [
      "[Parallel(n_jobs=-1)]: Using backend LokyBackend with 4 concurrent workers.\n",
      "[Parallel(n_jobs=-1)]: Done   5 tasks      | elapsed:    2.2s\n",
      "[Parallel(n_jobs=-1)]: Done  10 tasks      | elapsed:    2.4s\n",
      "[Parallel(n_jobs=-1)]: Done  17 tasks      | elapsed:    2.6s\n",
      "[Parallel(n_jobs=-1)]: Done  24 tasks      | elapsed:    2.7s\n",
      "[Parallel(n_jobs=-1)]: Done  33 tasks      | elapsed:    2.9s\n",
      "[Parallel(n_jobs=-1)]: Batch computation too fast (0.1921s.) Setting batch_size=2.\n",
      "[Parallel(n_jobs=-1)]: Done  42 tasks      | elapsed:    3.0s\n",
      "[Parallel(n_jobs=-1)]: Batch computation too fast (0.1130s.) Setting batch_size=6.\n",
      "[Parallel(n_jobs=-1)]: Done  76 tasks      | elapsed:    3.4s\n",
      "[Parallel(n_jobs=-1)]: Done 142 tasks      | elapsed:    3.9s\n",
      "[Parallel(n_jobs=-1)]: Done 220 tasks      | elapsed:    4.6s\n",
      "[Parallel(n_jobs=-1)]: Done 298 tasks      | elapsed:    5.1s\n",
      "[Parallel(n_jobs=-1)]: Done 388 tasks      | elapsed:    5.8s\n",
      "[Parallel(n_jobs=-1)]: Done 478 tasks      | elapsed:    6.6s\n",
      "[Parallel(n_jobs=-1)]: Done 580 tasks      | elapsed:    7.6s\n",
      "[Parallel(n_jobs=-1)]: Done 682 tasks      | elapsed:    8.7s\n",
      "[Parallel(n_jobs=-1)]: Done 796 tasks      | elapsed:    9.8s\n",
      "[Parallel(n_jobs=-1)]: Done 910 tasks      | elapsed:   10.9s\n",
      "[Parallel(n_jobs=-1)]: Done 1036 tasks      | elapsed:   12.3s\n",
      "[Parallel(n_jobs=-1)]: Done 1162 tasks      | elapsed:   13.9s\n",
      "[Parallel(n_jobs=-1)]: Done 1300 tasks      | elapsed:   15.4s\n",
      "[Parallel(n_jobs=-1)]: Done 1440 out of 1440 | elapsed:   16.9s finished\n"
     ]
    },
    {
     "data": {
      "text/plain": [
       "GridSearchCV(cv=5, estimator=SVC(), n_jobs=-1,\n",
       "             param_grid=[{'C': [1e-05, 0.0001, 0.001, 0.01, 0.1, 1, 2, 3],\n",
       "                          'decision_function_shape': ['ovo', 'ovr'],\n",
       "                          'degree': [1, 2, 3, 4, 5, 6],\n",
       "                          'kernel': ['linear', 'poly', 'rbf']}],\n",
       "             refit='Recall',\n",
       "             scoring={'Accuracy': make_scorer(accuracy_score),\n",
       "                      'Precision': make_scorer(precision_score, average=macro),\n",
       "                      'Recall': make_scorer(recall_score, average=macro)},\n",
       "             verbose=10)"
      ]
     },
     "execution_count": 4,
     "metadata": {},
     "output_type": "execute_result"
    }
   ],
   "source": [
    "scoring = {\n",
    "    'Accuracy': make_scorer(accuracy_score), \n",
    "    'Precision': make_scorer(precision_score, average='macro'), \n",
    "    'Recall': make_scorer(recall_score, average='macro')\n",
    "    }\n",
    "gs = GridSearchCV(\n",
    "    SVC(),\n",
    "    gridParameters,\n",
    "    verbose=10,\n",
    "    cv=5,\n",
    "    n_jobs=-1,\n",
    "    scoring= scoring,\n",
    "    refit = 'Recall'\n",
    "    \n",
    ")\n",
    "gs.fit(X=data, y=target)\n",
    "\n",
    "#bestEstimators = gs.best_estimator_\n",
    "#finalAcuraccy = gs.cv_results_[\"mean_test_score\"][gs.best_index_]\n",
    "#stdDeviation = gs.cv_results_[\"std_test_score\"][gs.best_index_]"
   ]
  },
  {
   "cell_type": "code",
   "execution_count": 5,
   "metadata": {},
   "outputs": [],
   "source": [
    "bestEstimators = gs.best_estimator_\n",
    "finalAcuraccy = gs.cv_results_[\"mean_test_Accuracy\"][gs.best_index_]\n",
    "finalPrecision = gs.cv_results_[\"mean_test_Precision\"][gs.best_index_]\n",
    "finalRecall = gs.cv_results_[\"mean_test_Recall\"][gs.best_index_]\n",
    "stdDeviAcuraccy = gs.cv_results_[\"std_test_Accuracy\"][gs.best_index_] \n",
    "stdDeviPrecision = gs.cv_results_[\"std_test_Precision\"][gs.best_index_] \n",
    "stdDeviRecall = gs.cv_results_[\"std_test_Recall\"][gs.best_index_] "
   ]
  },
  {
   "cell_type": "code",
   "execution_count": 6,
   "metadata": {},
   "outputs": [
    {
     "name": "stdout",
     "output_type": "stream",
     "text": [
      "Accuracy: 0.825\n",
      "std Deviation Accuracy: 0.07\n",
      "Recall: 0.729\n",
      "std Deviation Accuracy: 0.08\n",
      "Accuracy: 0.692\n",
      "std Deviation Accuracy: 0.08\n"
     ]
    }
   ],
   "source": [
    "print(f'Accuracy: {round(finalAcuraccy, 3)}')\n",
    "print(f'std Deviation Accuracy: {round(stdDeviAcuraccy, 2)}')\n",
    "print(f'Recall: {round(finalRecall, 3)}')\n",
    "print(f'std Deviation Accuracy: {round(stdDeviRecall, 2)}')\n",
    "print(f'Accuracy: {round(finalPrecision, 3)}')\n",
    "print(f'std Deviation Accuracy: {round(stdDeviPrecision, 2)}')"
   ]
  },
  {
   "cell_type": "code",
   "execution_count": 7,
   "metadata": {},
   "outputs": [],
   "source": [
    "arquivoResultados = \"SVMResults.txt\"\n",
    "objFile = open(arquivoResultados, \"a\")\n",
    "objFile.write(\"SVM Results \\n\")\n",
    "objFile.write(str(bestEstimators).replace(\"\\n\", \"\").replace(\" \", \"\") + \"\\n\")\n",
    "objFile.write(str(finalAcuraccy)+\"\\n\")\n",
    "objFile.write(str(stdDeviAcuraccy)+\"\\n\")\n",
    "objFile.write(str(finalRecall)+\"\\n\")\n",
    "objFile.write(str(stdDeviRecall)+\"\\n\")\n",
    "objFile.write(str(finalPrecision)+\"\\n\")\n",
    "objFile.write(str(stdDeviPrecision)+\"\\n\")\n",
    "objFile.close()"
   ]
  },
  {
   "cell_type": "code",
   "execution_count": null,
   "metadata": {},
   "outputs": [],
   "source": []
  },
  {
   "cell_type": "code",
   "execution_count": null,
   "metadata": {},
   "outputs": [],
   "source": []
  }
 ],
 "metadata": {
  "kernelspec": {
   "display_name": "Python 3",
   "language": "python",
   "name": "python3"
  },
  "language_info": {
   "codemirror_mode": {
    "name": "ipython",
    "version": 3
   },
   "file_extension": ".py",
   "mimetype": "text/x-python",
   "name": "python",
   "nbconvert_exporter": "python",
   "pygments_lexer": "ipython3",
   "version": "3.7.3"
  }
 },
 "nbformat": 4,
 "nbformat_minor": 4
}
