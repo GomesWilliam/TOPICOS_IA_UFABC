{
 "cells": [
  {
   "cell_type": "code",
   "execution_count": 1,
   "metadata": {},
   "outputs": [],
   "source": [
    "from sklearn.model_selection import GridSearchCV\n",
    "from sklearn.discriminant_analysis import LinearDiscriminantAnalysis\n",
    "from sklearn.metrics import make_scorer, accuracy_score, precision_score, recall_score\n",
    "import pandas as pd"
   ]
  },
  {
   "cell_type": "code",
   "execution_count": 2,
   "metadata": {},
   "outputs": [],
   "source": [
    "dataset = pd.read_csv('processedData.csv')\n",
    "target = dataset['target']\n",
    "data = dataset.drop(columns='target')"
   ]
  },
  {
   "cell_type": "code",
   "execution_count": 3,
   "metadata": {},
   "outputs": [],
   "source": [
    "gridParameters = [{\n",
    "    'solver': ['svd', 'lsqr', 'eigen'],\n",
    "    'tol': [1e-7, 1e-6, 1e-5, 1e-4, 1e-3, 1e-2, 1e-1]\n",
    "}]"
   ]
  },
  {
   "cell_type": "code",
   "execution_count": 4,
   "metadata": {},
   "outputs": [
    {
     "name": "stdout",
     "output_type": "stream",
     "text": [
      "Fitting 5 folds for each of 21 candidates, totalling 105 fits\n"
     ]
    },
    {
     "name": "stderr",
     "output_type": "stream",
     "text": [
      "[Parallel(n_jobs=-1)]: Using backend LokyBackend with 4 concurrent workers.\n",
      "[Parallel(n_jobs=-1)]: Done   5 tasks      | elapsed:    2.3s\n",
      "[Parallel(n_jobs=-1)]: Done  10 tasks      | elapsed:    2.4s\n",
      "[Parallel(n_jobs=-1)]: Done  17 tasks      | elapsed:    2.5s\n",
      "[Parallel(n_jobs=-1)]: Done  24 tasks      | elapsed:    2.6s\n",
      "[Parallel(n_jobs=-1)]: Batch computation too fast (0.1877s.) Setting batch_size=2.\n",
      "[Parallel(n_jobs=-1)]: Batch computation too fast (0.0948s.) Setting batch_size=8.\n",
      "[Parallel(n_jobs=-1)]: Done  35 tasks      | elapsed:    2.7s\n",
      "[Parallel(n_jobs=-1)]: Done  87 out of 105 | elapsed:    3.2s remaining:    0.7s\n",
      "[Parallel(n_jobs=-1)]: Done 105 out of 105 | elapsed:    3.3s finished\n"
     ]
    },
    {
     "data": {
      "text/plain": [
       "GridSearchCV(cv=5, estimator=LinearDiscriminantAnalysis(), n_jobs=-1,\n",
       "             param_grid=[{'solver': ['svd', 'lsqr', 'eigen'],\n",
       "                          'tol': [1e-07, 1e-06, 1e-05, 0.0001, 0.001, 0.01,\n",
       "                                  0.1]}],\n",
       "             refit='Recall',\n",
       "             scoring={'Accuracy': make_scorer(accuracy_score),\n",
       "                      'Precision': make_scorer(precision_score, average=macro),\n",
       "                      'Recall': make_scorer(recall_score, average=macro)},\n",
       "             verbose=10)"
      ]
     },
     "execution_count": 4,
     "metadata": {},
     "output_type": "execute_result"
    }
   ],
   "source": [
    "scoring = {\n",
    "    'Accuracy': make_scorer(accuracy_score), \n",
    "    'Precision': make_scorer(precision_score, average='macro'), \n",
    "    'Recall': make_scorer(recall_score, average='macro')\n",
    "    }\n",
    "gs = GridSearchCV(\n",
    "    LinearDiscriminantAnalysis(),\n",
    "    gridParameters,\n",
    "    verbose=10,\n",
    "    cv=5,\n",
    "    n_jobs=-1,\n",
    "    scoring = scoring,\n",
    "    refit = 'Recall'\n",
    ")\n",
    "gs.fit(X=data, y=target)"
   ]
  },
  {
   "cell_type": "code",
   "execution_count": 5,
   "metadata": {},
   "outputs": [],
   "source": [
    "bestEstimators = gs.best_estimator_\n",
    "finalAcuraccy = gs.cv_results_[\"mean_test_Accuracy\"][gs.best_index_]\n",
    "finalPrecision = gs.cv_results_[\"mean_test_Precision\"][gs.best_index_]\n",
    "finalRecall = gs.cv_results_[\"mean_test_Recall\"][gs.best_index_]\n",
    "stdDeviAcuraccy = gs.cv_results_[\"std_test_Accuracy\"][gs.best_index_] \n",
    "stdDeviPrecision = gs.cv_results_[\"std_test_Precision\"][gs.best_index_] \n",
    "stdDeviRecall = gs.cv_results_[\"std_test_Recall\"][gs.best_index_] "
   ]
  },
  {
   "cell_type": "code",
   "execution_count": 6,
   "metadata": {},
   "outputs": [
    {
     "name": "stdout",
     "output_type": "stream",
     "text": [
      "Accuracy: 0.873\n",
      "std Deviation Accuracy: 0.02\n",
      "Recall: 0.651\n",
      "std Deviation Accuracy: 0.09\n",
      "Accuracy: 0.738\n",
      "std Deviation Accuracy: 0.18\n"
     ]
    }
   ],
   "source": [
    "print(f'Accuracy: {round(finalAcuraccy, 3)}')\n",
    "print(f'std Deviation Accuracy: {round(stdDeviAcuraccy, 2)}')\n",
    "print(f'Recall: {round(finalRecall, 3)}')\n",
    "print(f'std Deviation Accuracy: {round(stdDeviRecall, 2)}')\n",
    "print(f'Accuracy: {round(finalPrecision, 3)}')\n",
    "print(f'std Deviation Accuracy: {round(stdDeviPrecision, 2)}')"
   ]
  },
  {
   "cell_type": "code",
   "execution_count": 7,
   "metadata": {},
   "outputs": [],
   "source": [
    "arquivoResultados = \"LDAResults.txt\"\n",
    "objFile = open(arquivoResultados, \"a\")\n",
    "objFile.write(\"LDA Results \\n\")\n",
    "objFile.write(str(bestEstimators).replace(\"\\n\", \"\").replace(\" \", \"\") + \"\\n\")\n",
    "objFile.write(str(finalAcuraccy)+\"\\n\")\n",
    "objFile.write(str(stdDeviAcuraccy)+\"\\n\")\n",
    "objFile.write(str(finalRecall)+\"\\n\")\n",
    "objFile.write(str(stdDeviRecall)+\"\\n\")\n",
    "objFile.write(str(finalPrecision)+\"\\n\")\n",
    "objFile.write(str(stdDeviPrecision)+\"\\n\")\n",
    "objFile.close()"
   ]
  },
  {
   "cell_type": "code",
   "execution_count": null,
   "metadata": {},
   "outputs": [],
   "source": []
  }
 ],
 "metadata": {
  "kernelspec": {
   "display_name": "Python 3",
   "language": "python",
   "name": "python3"
  },
  "language_info": {
   "codemirror_mode": {
    "name": "ipython",
    "version": 3
   },
   "file_extension": ".py",
   "mimetype": "text/x-python",
   "name": "python",
   "nbconvert_exporter": "python",
   "pygments_lexer": "ipython3",
   "version": "3.7.3"
  }
 },
 "nbformat": 4,
 "nbformat_minor": 4
}
