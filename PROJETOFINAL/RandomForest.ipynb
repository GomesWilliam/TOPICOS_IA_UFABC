{
 "cells": [
  {
   "cell_type": "code",
   "execution_count": 1,
   "metadata": {},
   "outputs": [],
   "source": [
    "from sklearn.model_selection import GridSearchCV\n",
    "from sklearn.ensemble import RandomForestClassifier\n",
    "from sklearn.metrics import make_scorer, accuracy_score, precision_score, recall_score\n",
    "import pandas as pd"
   ]
  },
  {
   "cell_type": "code",
   "execution_count": 2,
   "metadata": {},
   "outputs": [],
   "source": [
    "dataset = pd.read_csv('processedData.csv')\n",
    "target = dataset['target']\n",
    "data = dataset.drop(columns='target')"
   ]
  },
  {
   "cell_type": "code",
   "execution_count": 3,
   "metadata": {},
   "outputs": [],
   "source": [
    "gridParameters = [{\n",
    "    'n_estimators': [10, 50, 100],\n",
    "    'criterion': ['gini', 'entropy'],\n",
    "    'min_samples_split': [2,4,6,8,10],\n",
    "    'min_samples_leaf': [1,2,3,4,5],\n",
    "    'bootstrap': [True, False],\n",
    "    'max_features': [None, 'sqrt', 'log2']\n",
    "}]"
   ]
  },
  {
   "cell_type": "code",
   "execution_count": 4,
   "metadata": {},
   "outputs": [
    {
     "name": "stdout",
     "output_type": "stream",
     "text": [
      "Fitting 5 folds for each of 900 candidates, totalling 4500 fits\n"
     ]
    },
    {
     "name": "stderr",
     "output_type": "stream",
     "text": [
      "[Parallel(n_jobs=-1)]: Using backend LokyBackend with 4 concurrent workers.\n",
      "[Parallel(n_jobs=-1)]: Done   5 tasks      | elapsed:    3.3s\n",
      "[Parallel(n_jobs=-1)]: Done  10 tasks      | elapsed:    4.1s\n",
      "[Parallel(n_jobs=-1)]: Done  17 tasks      | elapsed:    4.9s\n",
      "[Parallel(n_jobs=-1)]: Done  24 tasks      | elapsed:    5.7s\n",
      "[Parallel(n_jobs=-1)]: Done  33 tasks      | elapsed:    6.7s\n",
      "[Parallel(n_jobs=-1)]: Done  42 tasks      | elapsed:    7.8s\n",
      "[Parallel(n_jobs=-1)]: Done  53 tasks      | elapsed:    8.7s\n",
      "[Parallel(n_jobs=-1)]: Done  64 tasks      | elapsed:   10.1s\n",
      "[Parallel(n_jobs=-1)]: Done  77 tasks      | elapsed:   11.8s\n",
      "[Parallel(n_jobs=-1)]: Done  90 tasks      | elapsed:   13.4s\n",
      "[Parallel(n_jobs=-1)]: Done 105 tasks      | elapsed:   15.1s\n",
      "[Parallel(n_jobs=-1)]: Done 120 tasks      | elapsed:   16.6s\n",
      "[Parallel(n_jobs=-1)]: Done 137 tasks      | elapsed:   18.4s\n",
      "[Parallel(n_jobs=-1)]: Done 154 tasks      | elapsed:   20.0s\n",
      "[Parallel(n_jobs=-1)]: Done 173 tasks      | elapsed:   21.9s\n",
      "[Parallel(n_jobs=-1)]: Done 192 tasks      | elapsed:   24.2s\n",
      "[Parallel(n_jobs=-1)]: Done 213 tasks      | elapsed:   26.3s\n",
      "[Parallel(n_jobs=-1)]: Done 234 tasks      | elapsed:   29.0s\n",
      "[Parallel(n_jobs=-1)]: Done 257 tasks      | elapsed:   31.9s\n",
      "[Parallel(n_jobs=-1)]: Done 280 tasks      | elapsed:   34.4s\n",
      "[Parallel(n_jobs=-1)]: Done 305 tasks      | elapsed:   37.4s\n",
      "[Parallel(n_jobs=-1)]: Done 330 tasks      | elapsed:   40.0s\n",
      "[Parallel(n_jobs=-1)]: Done 357 tasks      | elapsed:   43.1s\n",
      "[Parallel(n_jobs=-1)]: Done 384 tasks      | elapsed:   45.4s\n",
      "[Parallel(n_jobs=-1)]: Done 413 tasks      | elapsed:   47.3s\n",
      "[Parallel(n_jobs=-1)]: Done 442 tasks      | elapsed:   49.7s\n",
      "[Parallel(n_jobs=-1)]: Done 473 tasks      | elapsed:   52.0s\n",
      "[Parallel(n_jobs=-1)]: Done 504 tasks      | elapsed:   54.4s\n",
      "[Parallel(n_jobs=-1)]: Done 537 tasks      | elapsed:   57.5s\n",
      "[Parallel(n_jobs=-1)]: Done 570 tasks      | elapsed:   59.9s\n",
      "[Parallel(n_jobs=-1)]: Done 605 tasks      | elapsed:  1.0min\n",
      "[Parallel(n_jobs=-1)]: Done 640 tasks      | elapsed:  1.1min\n",
      "[Parallel(n_jobs=-1)]: Done 677 tasks      | elapsed:  1.1min\n",
      "[Parallel(n_jobs=-1)]: Done 714 tasks      | elapsed:  1.2min\n",
      "[Parallel(n_jobs=-1)]: Done 753 tasks      | elapsed:  1.2min\n",
      "[Parallel(n_jobs=-1)]: Done 792 tasks      | elapsed:  1.3min\n",
      "[Parallel(n_jobs=-1)]: Done 833 tasks      | elapsed:  1.3min\n",
      "[Parallel(n_jobs=-1)]: Done 874 tasks      | elapsed:  1.3min\n",
      "[Parallel(n_jobs=-1)]: Done 917 tasks      | elapsed:  1.4min\n",
      "[Parallel(n_jobs=-1)]: Done 960 tasks      | elapsed:  1.4min\n",
      "[Parallel(n_jobs=-1)]: Done 1005 tasks      | elapsed:  1.4min\n",
      "[Parallel(n_jobs=-1)]: Done 1050 tasks      | elapsed:  1.5min\n",
      "[Parallel(n_jobs=-1)]: Done 1097 tasks      | elapsed:  1.5min\n",
      "[Parallel(n_jobs=-1)]: Done 1144 tasks      | elapsed:  1.6min\n",
      "[Parallel(n_jobs=-1)]: Done 1193 tasks      | elapsed:  1.7min\n",
      "[Parallel(n_jobs=-1)]: Done 1242 tasks      | elapsed:  1.8min\n",
      "[Parallel(n_jobs=-1)]: Done 1293 tasks      | elapsed:  1.9min\n",
      "[Parallel(n_jobs=-1)]: Done 1344 tasks      | elapsed:  2.0min\n",
      "[Parallel(n_jobs=-1)]: Done 1397 tasks      | elapsed:  2.1min\n",
      "[Parallel(n_jobs=-1)]: Done 1450 tasks      | elapsed:  2.2min\n",
      "[Parallel(n_jobs=-1)]: Done 1505 tasks      | elapsed:  2.2min\n",
      "[Parallel(n_jobs=-1)]: Done 1560 tasks      | elapsed:  2.3min\n",
      "[Parallel(n_jobs=-1)]: Done 1617 tasks      | elapsed:  2.4min\n",
      "[Parallel(n_jobs=-1)]: Done 1674 tasks      | elapsed:  2.4min\n",
      "[Parallel(n_jobs=-1)]: Done 1733 tasks      | elapsed:  2.5min\n",
      "[Parallel(n_jobs=-1)]: Done 1792 tasks      | elapsed:  2.5min\n",
      "[Parallel(n_jobs=-1)]: Done 1853 tasks      | elapsed:  2.6min\n",
      "[Parallel(n_jobs=-1)]: Done 1914 tasks      | elapsed:  2.7min\n",
      "[Parallel(n_jobs=-1)]: Done 1977 tasks      | elapsed:  2.8min\n",
      "[Parallel(n_jobs=-1)]: Done 2040 tasks      | elapsed:  2.8min\n",
      "[Parallel(n_jobs=-1)]: Done 2105 tasks      | elapsed:  2.9min\n",
      "[Parallel(n_jobs=-1)]: Done 2170 tasks      | elapsed:  3.0min\n",
      "[Parallel(n_jobs=-1)]: Done 2237 tasks      | elapsed:  3.0min\n",
      "[Parallel(n_jobs=-1)]: Done 2304 tasks      | elapsed:  3.2min\n",
      "[Parallel(n_jobs=-1)]: Done 2373 tasks      | elapsed:  3.3min\n",
      "[Parallel(n_jobs=-1)]: Done 2442 tasks      | elapsed:  3.4min\n",
      "[Parallel(n_jobs=-1)]: Done 2513 tasks      | elapsed:  3.6min\n",
      "[Parallel(n_jobs=-1)]: Done 2584 tasks      | elapsed:  3.7min\n",
      "[Parallel(n_jobs=-1)]: Done 2657 tasks      | elapsed:  3.8min\n",
      "[Parallel(n_jobs=-1)]: Done 2730 tasks      | elapsed:  3.9min\n",
      "[Parallel(n_jobs=-1)]: Done 2805 tasks      | elapsed:  3.9min\n",
      "[Parallel(n_jobs=-1)]: Done 2880 tasks      | elapsed:  4.0min\n",
      "[Parallel(n_jobs=-1)]: Done 2957 tasks      | elapsed:  4.1min\n",
      "[Parallel(n_jobs=-1)]: Done 3034 tasks      | elapsed:  4.2min\n",
      "[Parallel(n_jobs=-1)]: Done 3113 tasks      | elapsed:  4.3min\n",
      "[Parallel(n_jobs=-1)]: Done 3192 tasks      | elapsed:  4.4min\n",
      "[Parallel(n_jobs=-1)]: Done 3273 tasks      | elapsed:  4.4min\n",
      "[Parallel(n_jobs=-1)]: Done 3354 tasks      | elapsed:  4.5min\n",
      "[Parallel(n_jobs=-1)]: Done 3437 tasks      | elapsed:  4.7min\n",
      "[Parallel(n_jobs=-1)]: Done 3520 tasks      | elapsed:  4.9min\n",
      "[Parallel(n_jobs=-1)]: Done 3605 tasks      | elapsed:  5.1min\n",
      "[Parallel(n_jobs=-1)]: Done 3690 tasks      | elapsed:  5.3min\n",
      "[Parallel(n_jobs=-1)]: Done 3777 tasks      | elapsed:  5.5min\n",
      "[Parallel(n_jobs=-1)]: Done 3864 tasks      | elapsed:  5.6min\n",
      "[Parallel(n_jobs=-1)]: Done 3953 tasks      | elapsed:  5.7min\n",
      "[Parallel(n_jobs=-1)]: Done 4042 tasks      | elapsed:  5.8min\n",
      "[Parallel(n_jobs=-1)]: Done 4133 tasks      | elapsed:  5.9min\n",
      "[Parallel(n_jobs=-1)]: Done 4224 tasks      | elapsed:  6.0min\n",
      "[Parallel(n_jobs=-1)]: Done 4317 tasks      | elapsed:  6.1min\n",
      "[Parallel(n_jobs=-1)]: Done 4410 tasks      | elapsed:  6.2min\n",
      "[Parallel(n_jobs=-1)]: Done 4500 out of 4500 | elapsed:  6.3min finished\n"
     ]
    },
    {
     "data": {
      "text/plain": [
       "GridSearchCV(cv=5, estimator=RandomForestClassifier(), n_jobs=-1,\n",
       "             param_grid=[{'bootstrap': [True, False],\n",
       "                          'criterion': ['gini', 'entropy'],\n",
       "                          'max_features': [None, 'sqrt', 'log2'],\n",
       "                          'min_samples_leaf': [1, 2, 3, 4, 5],\n",
       "                          'min_samples_split': [2, 4, 6, 8, 10],\n",
       "                          'n_estimators': [10, 50, 100]}],\n",
       "             refit='Recall',\n",
       "             scoring={'Accuracy': make_scorer(accuracy_score),\n",
       "                      'Precision': make_scorer(precision_score, average=macro),\n",
       "                      'Recall': make_scorer(recall_score, average=macro)},\n",
       "             verbose=10)"
      ]
     },
     "execution_count": 4,
     "metadata": {},
     "output_type": "execute_result"
    }
   ],
   "source": [
    "scoring = {\n",
    "    'Accuracy': make_scorer(accuracy_score), \n",
    "    'Precision': make_scorer(precision_score, average='macro'), \n",
    "    'Recall': make_scorer(recall_score, average='macro')\n",
    "}\n",
    "gs = GridSearchCV(\n",
    "    RandomForestClassifier(),\n",
    "    gridParameters,\n",
    "    verbose=10,\n",
    "    cv=5,\n",
    "    n_jobs=-1,\n",
    "    scoring= scoring,\n",
    "    refit = \"Recall\"\n",
    ")\n",
    "gs.fit(X=data, y=target)\n",
    "\n",
    "#bestEstimators = gs.best_estimator_\n",
    "#finalAcuraccy = gs.cv_results_[\"mean_test_score\"][gs.best_index_]\n",
    "#stdDeviation = gs.cv_results_[\"std_test_score\"][gs.best_index_]"
   ]
  },
  {
   "cell_type": "code",
   "execution_count": 5,
   "metadata": {},
   "outputs": [],
   "source": [
    "bestEstimators = gs.best_estimator_\n",
    "finalAcuraccy = gs.cv_results_[\"mean_test_Accuracy\"][gs.best_index_]\n",
    "finalPrecision = gs.cv_results_[\"mean_test_Precision\"][gs.best_index_]\n",
    "finalRecall = gs.cv_results_[\"mean_test_Recall\"][gs.best_index_]\n",
    "stdDeviAcuraccy = gs.cv_results_[\"std_test_Accuracy\"][gs.best_index_] \n",
    "stdDeviPrecision = gs.cv_results_[\"std_test_Precision\"][gs.best_index_] \n",
    "stdDeviRecall = gs.cv_results_[\"std_test_Recall\"][gs.best_index_] "
   ]
  },
  {
   "cell_type": "code",
   "execution_count": 6,
   "metadata": {},
   "outputs": [
    {
     "name": "stdout",
     "output_type": "stream",
     "text": [
      "Accuracy: 0.89\n",
      "std Deviation Accuracy: 0.03\n",
      "Recall: 0.748\n",
      "std Deviation Accuracy: 0.05\n",
      "Accuracy: 0.794\n",
      "std Deviation Accuracy: 0.07\n"
     ]
    }
   ],
   "source": [
    "print(f'Accuracy: {round(finalAcuraccy, 3)}')\n",
    "print(f'std Deviation Accuracy: {round(stdDeviAcuraccy, 2)}')\n",
    "print(f'Recall: {round(finalRecall, 3)}')\n",
    "print(f'std Deviation Accuracy: {round(stdDeviRecall, 2)}')\n",
    "print(f'Accuracy: {round(finalPrecision, 3)}')\n",
    "print(f'std Deviation Accuracy: {round(stdDeviPrecision, 2)}')"
   ]
  },
  {
   "cell_type": "code",
   "execution_count": 7,
   "metadata": {},
   "outputs": [],
   "source": [
    "arquivoResultados = \"RandomForestResults.txt\"\n",
    "objFile = open(arquivoResultados, \"a\")\n",
    "objFile.write(\"RF Results \\n\")\n",
    "objFile.write(str(bestEstimators).replace(\"\\n\", \"\").replace(\" \", \"\") + \"\\n\")\n",
    "objFile.write(str(finalAcuraccy)+\"\\n\")\n",
    "objFile.write(str(stdDeviAcuraccy)+\"\\n\")\n",
    "objFile.write(str(finalRecall)+\"\\n\")\n",
    "objFile.write(str(stdDeviRecall)+\"\\n\")\n",
    "objFile.write(str(finalPrecision)+\"\\n\")\n",
    "objFile.write(str(stdDeviPrecision)+\"\\n\")\n",
    "objFile.close()"
   ]
  }
 ],
 "metadata": {
  "kernelspec": {
   "display_name": "Python 3",
   "language": "python",
   "name": "python3"
  },
  "language_info": {
   "codemirror_mode": {
    "name": "ipython",
    "version": 3
   },
   "file_extension": ".py",
   "mimetype": "text/x-python",
   "name": "python",
   "nbconvert_exporter": "python",
   "pygments_lexer": "ipython3",
   "version": "3.7.3"
  }
 },
 "nbformat": 4,
 "nbformat_minor": 4
}
