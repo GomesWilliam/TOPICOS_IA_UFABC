{
 "cells": [
  {
   "cell_type": "code",
   "execution_count": 1,
   "metadata": {},
   "outputs": [],
   "source": [
    "from sklearn import datasets\n",
    "from sklearn.metrics import accuracy_score, recall_score, precision_score\n",
    "from sklearn.neighbors import KNeighborsClassifier\n",
    "from sklearn.model_selection import train_test_split as tts\n",
    "import time\n",
    "import pandas as pd\n",
    "import matplotlib.pyplot as plt\n",
    "import numpy as np\n",
    "from perceptron import Perceptron\n",
    "from sklearn.datasets import fetch_olivetti_faces\n",
    "from MultiClassPerceptron import MCPerceptron\n",
    "np.random.seed(0)"
   ]
  },
  {
   "cell_type": "markdown",
   "metadata": {},
   "source": [
    "# Q2"
   ]
  },
  {
   "cell_type": "markdown",
   "metadata": {},
   "source": [
    "## Importando Dataset"
   ]
  },
  {
   "cell_type": "code",
   "execution_count": 6,
   "metadata": {},
   "outputs": [],
   "source": [
    "dataset = fetch_olivetti_faces()\n",
    "data = dataset.data\n",
    "target = dataset.target"
   ]
  },
  {
   "cell_type": "code",
   "execution_count": 12,
   "metadata": {},
   "outputs": [],
   "source": [
    "data   = data[0:50] # REDUZINDO PARA APENAS 5 CLASSES (TESTES RÁPIDOS)\n",
    "target = target[0:50] # REDUZINDO PARA APENAS 5 CLASSES (TESTES RÁPIDOS)"
   ]
  },
  {
   "cell_type": "markdown",
   "metadata": {},
   "source": [
    "### Separando amostras de treino e teste"
   ]
  },
  {
   "cell_type": "code",
   "execution_count": 16,
   "metadata": {},
   "outputs": [],
   "source": [
    "xTrain, xTest, yTrain, yTest = tts(data, target, shuffle = True, test_size = 0.25)"
   ]
  },
  {
   "cell_type": "code",
   "execution_count": null,
   "metadata": {},
   "outputs": [],
   "source": []
  },
  {
   "cell_type": "markdown",
   "metadata": {},
   "source": [
    "### Treinando o modelo"
   ]
  },
  {
   "cell_type": "code",
   "execution_count": 40,
   "metadata": {},
   "outputs": [],
   "source": [
    "percep1 = MCPerceptron(learning_rate = 0.00001, epochs = 1000)\n",
    "percep1.fit(xTrain, yTrain)\n",
    "percep2 = MCPerceptron(learning_rate = 0.0001, epochs = 1000)\n",
    "percep2.fit(xTrain, yTrain)\n",
    "percep3 = MCPerceptron(learning_rate = 0.001, epochs = 1000)\n",
    "percep3.fit(xTrain, yTrain)\n",
    "percep4 = MCPerceptron(learning_rate = 0.01, epochs = 1000)\n",
    "percep4.fit(xTrain, yTrain)\n",
    "percep5 = MCPerceptron(learning_rate = 0.1, epochs = 1000)\n",
    "percep5.fit(xTrain, yTrain)\n",
    "percep6 = MCPerceptron(learning_rate = 1, epochs = 1000)\n",
    "percep6.fit(xTrain, yTrain)\n"
   ]
  },
  {
   "cell_type": "markdown",
   "metadata": {},
   "source": [
    "### Usando Amostras de Teste para cálcular a Acurácia do Modelo \n"
   ]
  },
  {
   "cell_type": "code",
   "execution_count": 41,
   "metadata": {},
   "outputs": [],
   "source": [
    "predicts1 = percep1.predict(xTest)\n",
    "predicts2 = percep2.predict(xTest)\n",
    "predicts3 = percep3.predict(xTest)\n",
    "predicts4 = percep4.predict(xTest)\n",
    "predicts5 = percep5.predict(xTest)\n",
    "predicts6 = percep6.predict(xTest)"
   ]
  },
  {
   "cell_type": "code",
   "execution_count": 42,
   "metadata": {},
   "outputs": [
    {
     "name": "stdout",
     "output_type": "stream",
     "text": [
      "Acurácia para percepetron 1: 0.7692307692307693\n",
      "--------------------------------------\n",
      "Acurácia para percepetron 2: 0.6153846153846154\n",
      "--------------------------------------\n",
      "Acurácia para percepetron 3: 0.7692307692307693\n",
      "--------------------------------------\n",
      "Acurácia para percepetron 4: 0.9230769230769231\n",
      "--------------------------------------\n",
      "Acurácia para percepetron 5: 0.9230769230769231\n",
      "--------------------------------------\n",
      "Acurácia para percepetron 6: 0.9230769230769231\n"
     ]
    }
   ],
   "source": [
    "print('Acurácia para percepetron 1: {}'.format(accuracy_score(yTest, predicts1)))\n",
    "print('--------------------------------------')\n",
    "print('Acurácia para percepetron 2: {}'.format(accuracy_score(yTest, predicts2)))\n",
    "print('--------------------------------------')\n",
    "print('Acurácia para percepetron 3: {}'.format(accuracy_score(yTest, predicts3)))\n",
    "print('--------------------------------------')\n",
    "print('Acurácia para percepetron 4: {}'.format(accuracy_score(yTest, predicts4)))\n",
    "print('--------------------------------------')\n",
    "print('Acurácia para percepetron 5: {}'.format(accuracy_score(yTest, predicts5)))\n",
    "print('--------------------------------------')\n",
    "print('Acurácia para percepetron 6: {}'.format(accuracy_score(yTest, predicts6)))\n",
    "\n"
   ]
  },
  {
   "cell_type": "code",
   "execution_count": 43,
   "metadata": {},
   "outputs": [
    {
     "data": {
      "text/plain": [
       "5000"
      ]
     },
     "execution_count": 43,
     "metadata": {},
     "output_type": "execute_result"
    }
   ],
   "source": [
    "len(percep1.pesos)"
   ]
  },
  {
   "cell_type": "markdown",
   "metadata": {},
   "source": [
    "### Considerações"
   ]
  },
  {
   "cell_type": "markdown",
   "metadata": {},
   "source": [
    "## A IMPLEMENTAÇÃO DO MULTICLASS PERCEPTRON E PERCEPTRON ENCONTRA-SE NOS ARQUIVOS .py"
   ]
  },
  {
   "cell_type": "code",
   "execution_count": null,
   "metadata": {},
   "outputs": [],
   "source": []
  }
 ],
 "metadata": {
  "kernelspec": {
   "display_name": "Python 3",
   "language": "python",
   "name": "python3"
  },
  "language_info": {
   "codemirror_mode": {
    "name": "ipython",
    "version": 3
   },
   "file_extension": ".py",
   "mimetype": "text/x-python",
   "name": "python",
   "nbconvert_exporter": "python",
   "pygments_lexer": "ipython3",
   "version": "3.7.3"
  }
 },
 "nbformat": 4,
 "nbformat_minor": 4
}
